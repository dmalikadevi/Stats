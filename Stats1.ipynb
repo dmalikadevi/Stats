{
 "cells": [
  {
   "cell_type": "markdown",
   "metadata": {},
   "source": [
    "1. The marks awarded for an assignment set for a Year 8 class of 20 students were as follows:\n",
    "6 7 5 7 7 8 7 6 9 7 4 10 6 8 8 9 5 6 4 8"
   ]
  },
  {
   "cell_type": "code",
   "execution_count": 82,
   "metadata": {},
   "outputs": [
    {
     "name": "stdout",
     "output_type": "stream",
     "text": [
      "Mean:  6.85\n",
      "Median:  7.0\n",
      "Mode:  ModeResult(mode=array([7]), count=array([5]))\n",
      "Standard Deviation:  1.5898113095584647\n"
     ]
    }
   ],
   "source": [
    "import math\n",
    "import numpy as np\n",
    "import matplotlib.pyplot as plt\n",
    "from scipy import stats\n",
    "import seaborn as sns\n",
    "Marks = (6,7,5,7,7,8,7,6,9,7,4,10,6,8,8,9,5,6,4,8)\n",
    "mean = np.mean(Marks)\n",
    "median = np.median(Marks)\n",
    "mode = stats.mode(Marks)\n",
    "std = np.std(Marks)\n",
    "print(\"Mean: \", mean)\n",
    "print(\"Median: \", median)\n",
    "print(\"Mode: \", mode)\n",
    "print(\"Standard Deviation: \", std)"
   ]
  },
  {
   "cell_type": "markdown",
   "metadata": {},
   "source": [
    "2. The number of calls from motorists per day for roadside service was recorded for a particular month:\n",
    "28, 122, 217, 130, 120, 86, 80, 90, 140, 120, 70, 40, 145, 113, 90, 68, 174, 194, 170,100, 75, 104, 97, 75,123, 100, 75, 104, 97, 75, 123, 100, 89, 120, 109"
   ]
  },
  {
   "cell_type": "code",
   "execution_count": 83,
   "metadata": {},
   "outputs": [
    {
     "name": "stdout",
     "output_type": "stream",
     "text": [
      "Mean:  107.51428571428572\n",
      "Median:  100.0\n",
      "Mode:  ModeResult(mode=array([75]), count=array([4]))\n",
      "Standard Deviation:  38.77287080168403\n"
     ]
    }
   ],
   "source": [
    "calls = (28,122,217,130,120,86,80,90,140,120,70,40,145,113,90,68,174,194,170,100,75,104,97,75,123,100,75,104,97,75,123,100,89,120,109)\n",
    "mean = np.mean(calls)\n",
    "median = np.median(calls)\n",
    "mode = stats.mode(calls)\n",
    "std = np.std(calls)\n",
    "print(\"Mean: \", mean)\n",
    "print(\"Median: \", median)\n",
    "print(\"Mode: \", mode)\n",
    "print(\"Standard Deviation: \", std)"
   ]
  },
  {
   "cell_type": "markdown",
   "metadata": {},
   "source": [
    "3. The number of times I go to the gym in weekdays, are given below along with its associated probability:\n",
    "x = 0, 1, 2, 3, 4, 5\n",
    "f(x) = 0.09, 0.15, 0.40, 0.25, 0.10, 0.01\n",
    "Calculate the mean no. of workouts in a week. Also evaluate the variance involved in it."
   ]
  },
  {
   "cell_type": "code",
   "execution_count": 156,
   "metadata": {},
   "outputs": [
    {
     "name": "stdout",
     "output_type": "stream",
     "text": [
      "Mean: 2.15\n",
      "Variance: 1.107925990308017\n"
     ]
    }
   ],
   "source": [
    "x = 0, 1, 2, 3, 4, 5\n",
    "fx = 0.09, 0.15, 0.40, 0.25, 0.10, 0.01\n",
    "Mean = np.average(x, weights=fx)\n",
    "Variance = np.sqrt(np.average((x-Mean)**2, weights=fx))\n",
    "print(\"Mean:\", Mean)\n",
    "print(\"Variance:\", Variance)"
   ]
  },
  {
   "cell_type": "markdown",
   "metadata": {},
   "source": [
    "4. Let the continuous random variable D denote the diameter of the hole drilled in an aluminum sheet. The target diameter to be achieved is 12.5mm. Random disturbances in the process often result in inaccuracy.Historical data shows that the distribution of D can be modelled by the PDF (d) = 20e−20(d−12.5), d ≥ 12.5. If a part with diameter > 12.6 mm needs to be scrapped, what is the proportion of those parts? What is the CDF when the diameter is of 11mm? What is your conclusion regarding the proportion of scraps?"
   ]
  },
  {
   "cell_type": "code",
   "execution_count": 98,
   "metadata": {},
   "outputs": [
    {
     "name": "stdout",
     "output_type": "stream",
     "text": [
      "The proportion of parts scrapped is 0.13533528323661398\n"
     ]
    }
   ],
   "source": [
    "import scipy.integrate as integrate\n",
    "from scipy.integrate import quad\n",
    "def pdf(d):\n",
    "    return 20*np.exp(-20*(d-12.5))\n",
    "I = quad(pdf, 12.6, np.inf)[0]\n",
    "print(f\"The proportion of parts scrapped is {I}\")"
   ]
  },
  {
   "cell_type": "code",
   "execution_count": 99,
   "metadata": {},
   "outputs": [
    {
     "name": "stdout",
     "output_type": "stream",
     "text": [
      "The CDF when diameter is of 11 mm is 0.Since for d<12.5 the pdf will be 0\n"
     ]
    }
   ],
   "source": [
    "print(\"The CDF when diameter is of 11 mm is 0.Since for d<12.5 the pdf will be 0\")"
   ]
  },
  {
   "cell_type": "markdown",
   "metadata": {},
   "source": [
    "5. A company manufactures LED bulbs with a faulty rate of 30%. If I randomly select 6 chosen LEDs, what is the probability of having 2 faulty LEDs in my sample? Calculate the average value of this process. Also evaluate the standard deviation associated with it."
   ]
  },
  {
   "cell_type": "code",
   "execution_count": 41,
   "metadata": {},
   "outputs": [
    {
     "name": "stdout",
     "output_type": "stream",
     "text": [
      "Probability of 2 faulty LEDs:  0.32413499999999995\n"
     ]
    }
   ],
   "source": [
    "probability = binom.pmf(k=2,n=6,p=0.3)\n",
    "print(\"Probability of 2 faulty LEDs: \",probability)"
   ]
  },
  {
   "cell_type": "code",
   "execution_count": 11,
   "metadata": {},
   "outputs": [
    {
     "name": "stdout",
     "output_type": "stream",
     "text": [
      "mean=  1.7999999999999998\n",
      "standard deviation=  1.1224972160321822\n"
     ]
    }
   ],
   "source": [
    "mean,var=binom.stats(n=6,p=0.3)\n",
    "print(\"mean= \",mean)\n",
    "print(\"standard deviation= \",math.sqrt(var))"
   ]
  },
  {
   "cell_type": "markdown",
   "metadata": {},
   "source": [
    "6. Gaurav and Barakha are both preparing for entrance exams. Gaurav attempts to solve 8 questions per day with a correction rate of 75%, while Barakha averages around 12 questions per day with a correction rate of 45%. What is the probability that each of them will solve 5 questions correctly? What happens in cases of 4 and 6 correct solutions? What do you infer from it? What are the two main governing factors affecting their ability to solve questions correctly? Give a pictorial representation of the same to validate your answer."
   ]
  },
  {
   "cell_type": "code",
   "execution_count": 2,
   "metadata": {},
   "outputs": [
    {
     "data": {
      "text/plain": [
       "(6.0, 5.4)"
      ]
     },
     "execution_count": 2,
     "metadata": {},
     "output_type": "execute_result"
    }
   ],
   "source": [
    "import pandas as pd\n",
    "import statistics as stat\n",
    "from scipy.stats import poisson\n",
    "G_attempt = 8\n",
    "B_attempt = 12\n",
    "G_correctionrate = (75/100) * G_attempt\n",
    "B_correctionrate = (45/100) * B_attempt\n",
    "G_correctionrate,B_correctionrate"
   ]
  },
  {
   "cell_type": "code",
   "execution_count": 9,
   "metadata": {},
   "outputs": [
    {
     "data": {
      "text/plain": [
       "0.16062314104797995"
      ]
     },
     "execution_count": 9,
     "metadata": {},
     "output_type": "execute_result"
    }
   ],
   "source": [
    "# Gaurav will solve 5 questions correctly\n",
    "Poisson_1 = poisson.pmf(mu=G_correctionrate,k=5)\n",
    "Poisson_1"
   ]
  },
  {
   "cell_type": "code",
   "execution_count": 10,
   "metadata": {},
   "outputs": [
    {
     "data": {
      "text/plain": [
       "(0.13385261753998332, 0.1606231410479801)"
      ]
     },
     "execution_count": 10,
     "metadata": {},
     "output_type": "execute_result"
    }
   ],
   "source": [
    "# Gaurav, in cases of 4 and 6 correct solutions\n",
    "Poisson_2 = poisson.pmf(mu=G_correctionrate,k=4)\n",
    "Poisson_3 = poisson.pmf(mu=G_correctionrate,k=6)\n",
    "Poisson_2,Poisson_3"
   ]
  },
  {
   "cell_type": "code",
   "execution_count": 11,
   "metadata": {},
   "outputs": [
    {
     "data": {
      "text/plain": [
       "0.1728213330760574"
      ]
     },
     "execution_count": 11,
     "metadata": {},
     "output_type": "execute_result"
    }
   ],
   "source": [
    "# Barakha will solve 5 questions correctly\n",
    "Poisson_4 = poisson.pmf(mu=B_correctionrate,k=5)\n",
    "Poisson_4"
   ]
  },
  {
   "cell_type": "code",
   "execution_count": null,
   "metadata": {},
   "outputs": [],
   "source": [
    "# Barakha, in cases of 4 and 6 correct solutions"
   ]
  },
  {
   "cell_type": "code",
   "execution_count": 12,
   "metadata": {},
   "outputs": [
    {
     "data": {
      "text/plain": [
       "(0.16001975284820127, 0.15553919976845174)"
      ]
     },
     "execution_count": 12,
     "metadata": {},
     "output_type": "execute_result"
    }
   ],
   "source": [
    "Poisson_5 = poisson.pmf(mu=B_correctionrate,k=4)\n",
    "Poisson_6 = poisson.pmf(mu=B_correctionrate,k=6)\n",
    "Poisson_5,Poisson_6"
   ]
  },
  {
   "cell_type": "code",
   "execution_count": 13,
   "metadata": {},
   "outputs": [
    {
     "data": {
      "text/plain": [
       "0.3334444741240373"
      ]
     },
     "execution_count": 13,
     "metadata": {},
     "output_type": "execute_result"
    }
   ],
   "source": [
    "# Probability that each of them will solve 5 questions correctly\n",
    "Total_Prob = Poisson_1 + Poisson_4\n",
    "Total_Prob"
   ]
  },
  {
   "cell_type": "code",
   "execution_count": 20,
   "metadata": {},
   "outputs": [
    {
     "data": {
      "text/plain": [
       "<matplotlib.axes._subplots.AxesSubplot at 0x1d38d497d60>"
      ]
     },
     "execution_count": 20,
     "metadata": {},
     "output_type": "execute_result"
    },
    {
     "data": {
      "image/png": "[encoded data removed]",
      "text/plain": [
       "<Figure size 432x288 with 1 Axes>"
      ]
     },
     "metadata": {
      "needs_background": "light"
     },
     "output_type": "display_data"
    }
   ],
   "source": [
    "Gaurav = [Poisson_1,Poisson_2,Poisson_3]\n",
    "sns.barplot([5,4,6], Gaurav)"
   ]
  },
  {
   "cell_type": "code",
   "execution_count": 21,
   "metadata": {},
   "outputs": [
    {
     "data": {
      "text/plain": [
       "<matplotlib.axes._subplots.AxesSubplot at 0x1d38e2ff8b0>"
      ]
     },
     "execution_count": 21,
     "metadata": {},
     "output_type": "execute_result"
    },
    {
     "data": {
      "image/png": "[encoded data removed]",
      "text/plain": [
       "<Figure size 432x288 with 1 Axes>"
      ]
     },
     "metadata": {
      "needs_background": "light"
     },
     "output_type": "display_data"
    }
   ],
   "source": [
    "Barakha = [Poisson_4,Poisson_5,Poisson_6]\n",
    "sns.barplot([5,4,6], Barakha)"
   ]
  },
  {
   "cell_type": "markdown",
   "metadata": {},
   "source": [
    "7. Customers arrive at a rate of 72 per hour to my shop. What is the probability of k customers arriving in 4 minutes? a) 5 customers, b) not more than 3 customers, c) more than 3 customers. Give a pictorial representation of the same to validate your answer."
   ]
  },
  {
   "cell_type": "code",
   "execution_count": 106,
   "metadata": {},
   "outputs": [
    {
     "data": {
      "text/plain": [
       "0.17474768364388296"
      ]
     },
     "execution_count": 106,
     "metadata": {},
     "output_type": "execute_result"
    }
   ],
   "source": [
    "cust = 72/60 #hours to min\n",
    "cust = cust*4 # as we need 4 min\n",
    "# k = 5\n",
    "poisson_1 = poisson.pmf(mu=cust,k=5)\n",
    "poisson_1"
   ]
  },
  {
   "cell_type": "code",
   "execution_count": 107,
   "metadata": {},
   "outputs": [
    {
     "data": {
      "text/plain": [
       "0.29422991649656405"
      ]
     },
     "execution_count": 107,
     "metadata": {},
     "output_type": "execute_result"
    }
   ],
   "source": [
    "# k =0,1,2,3\n",
    "poisson_2 = poisson.pmf(mu=cust,k=0)\n",
    "poisson_3 = poisson.pmf(mu=cust,k=1)\n",
    "poisson_4 = poisson.pmf(mu=cust,k=2)\n",
    "poisson_5 = poisson.pmf(mu=cust,k=3)\n",
    "less_than_3customers = poisson_2 + poisson_3 + poisson_4 +poisson_5\n",
    "less_than_3customers"
   ]
  },
  {
   "cell_type": "code",
   "execution_count": 108,
   "metadata": {},
   "outputs": [
    {
     "data": {
      "text/plain": [
       "0.705770083503436"
      ]
     },
     "execution_count": 108,
     "metadata": {},
     "output_type": "execute_result"
    }
   ],
   "source": [
    "# more than 3\n",
    "more_than_3customers = 1 - less_than_3customers\n",
    "more_than_3customers"
   ]
  },
  {
   "cell_type": "code",
   "execution_count": 111,
   "metadata": {},
   "outputs": [
    {
     "data": {
      "text/plain": [
       "Text(0, 0.5, 'customer_probabilites')"
      ]
     },
     "execution_count": 111,
     "metadata": {},
     "output_type": "execute_result"
    },
    {
     "data": {
      "image/png": "[encoded data removed]",
      "text/plain": [
       "<Figure size 432x288 with 1 Axes>"
      ]
     },
     "metadata": {
      "needs_background": "light"
     },
     "output_type": "display_data"
    }
   ],
   "source": [
    "customer_prob = [poisson_1,poisson_2,poisson_3,poisson_4,poisson_5]\n",
    "sns.barplot([5,0,1,2,3],customer_prob)\n",
    "plt.xlabel('customers')\n",
    "plt.ylabel('customer_probabilites')"
   ]
  },
  {
   "cell_type": "markdown",
   "metadata": {},
   "source": [
    "8. I work as a data analyst in Aeon Learning Pvt. Ltd. After analyzing data, I make reports, where I have the efficiency of entering 77 words per minute with 6 errors per hour. What is the probability that I will commit 2 errors in a 455-word financial report? What happens when the no. of words increases/decreases (in case of 1000 words, 255 words)? How is the λ affected? How does it influence the PMF? Give a pictorial representation of the same to validate your answer."
   ]
  },
  {
   "cell_type": "code",
   "execution_count": 145,
   "metadata": {},
   "outputs": [
    {
     "name": "stdout",
     "output_type": "stream",
     "text": [
      "avg_error: 0.0012987012987012987\n",
      "commit_2errors: 0.5909090909090909\n"
     ]
    }
   ],
   "source": [
    "# 77 words per minute and 6 errors per hour\n",
    "avg_error = 6/(77*60)\n",
    "#commit 2 errors in a 455-word financial report\n",
    "mean = 455*avg_error\n",
    "print(\"avg_error:\", avg_error)\n",
    "print(\"commit_2errors:\", mean)"
   ]
  },
  {
   "cell_type": "code",
   "execution_count": 147,
   "metadata": {},
   "outputs": [
    {
     "data": {
      "text/plain": [
       "0.09669027375144444"
      ]
     },
     "execution_count": 147,
     "metadata": {},
     "output_type": "execute_result"
    }
   ],
   "source": [
    "poisson_prob_error_1 = poisson.pmf(2,mu=mean,loc=0)\n",
    "poisson_prob_error_1"
   ]
  },
  {
   "cell_type": "code",
   "execution_count": 149,
   "metadata": {},
   "outputs": [
    {
     "data": {
      "text/plain": [
       "0.23012815007300153"
      ]
     },
     "execution_count": 149,
     "metadata": {},
     "output_type": "execute_result"
    }
   ],
   "source": [
    "#no. of words increases/decreases in case of 1000 words\n",
    "mean = 1000*avg_error \n",
    "poisson_prob_error_2 = poisson.pmf(2,mu=mean,loc=0)\n",
    "poisson_prob_error_2"
   ]
  },
  {
   "cell_type": "code",
   "execution_count": 150,
   "metadata": {},
   "outputs": [
    {
     "data": {
      "text/plain": [
       "0.031874938718751855"
      ]
     },
     "execution_count": 150,
     "metadata": {},
     "output_type": "execute_result"
    }
   ],
   "source": [
    "#no. of words increases/decreases in case of 225 words\n",
    "mean = 225*avg_error\n",
    "poisson_prob_error_3 = poisson.pmf(2,mu=mean,loc=0)\n",
    "poisson_prob_error_3"
   ]
  },
  {
   "cell_type": "code",
   "execution_count": 151,
   "metadata": {},
   "outputs": [
    {
     "data": {
      "text/plain": [
       "Text(0, 0.5, 'probabilities')"
      ]
     },
     "execution_count": 151,
     "metadata": {},
     "output_type": "execute_result"
    },
    {
     "data": {
      "image/png": "[encoded data removed]",
      "text/plain": [
       "<Figure size 432x288 with 1 Axes>"
      ]
     },
     "metadata": {
      "needs_background": "light"
     },
     "output_type": "display_data"
    }
   ],
   "source": [
    "sns.lineplot([455,1000,225],[poisson_prob_error_1,poisson_prob_error_2,poisson_prob_error_3])\n",
    "plt.xlabel('pages')\n",
    "plt.ylabel('probabilities')"
   ]
  },
  {
   "cell_type": "markdown",
   "metadata": {},
   "source": [
    "9. Let the continuous random variable D denote the diameter of the hole drilled in an aluminum sheet. The target diameter to be achieved is 12.5mm. Random disturbances in the process often result in inaccuracy. Historical data shows that the distribution of D can be modelled by the PDF, f(d) = 20e−20(d−12.5), d ≥ 12.5. If a part with diameter > 12.6 mm needs to be scrapped, what is the proportion of those parts? What is the CDF when the diameter is of 11 mm? What is the conclusion of this experiment?"
   ]
  },
  {
   "cell_type": "code",
   "execution_count": 115,
   "metadata": {},
   "outputs": [
    {
     "name": "stdout",
     "output_type": "stream",
     "text": [
      "The proportion of parts scrapped is 0.13533528323661398\n"
     ]
    }
   ],
   "source": [
    "from scipy.integrate import quad\n",
    "def pdf(d):\n",
    "    return 20*np.exp(-20*(d-12.5))\n",
    "I = quad(pdf, 12.6, np.inf)[0]\n",
    "print(f\"The proportion of parts scrapped is {I}\")"
   ]
  },
  {
   "cell_type": "code",
   "execution_count": 116,
   "metadata": {},
   "outputs": [
    {
     "name": "stdout",
     "output_type": "stream",
     "text": [
      "The CDF when diameter is of 11 mm is 0.Since for d<12.5 the pdf will be 0\n"
     ]
    }
   ],
   "source": [
    "print(\"The CDF when diameter is of 11 mm is 0.Since for d<12.5 the pdf will be 0\")"
   ]
  },
  {
   "cell_type": "markdown",
   "metadata": {},
   "source": [
    "10. Please compute the following:\n",
    "a) P(Z > 1.26), . P(Z < −0.86), P(Z > −1.37), P(−1.25 < Z < 0.37), . P(Z ≤ −4.6)\n",
    "b) Find the value z such that P(Z > z) = 0.05\n",
    "c) Find the value of z such that P(−z < Z < z) = 0.99"
   ]
  },
  {
   "cell_type": "code",
   "execution_count": 22,
   "metadata": {},
   "outputs": [
    {
     "data": {
      "text/plain": [
       "0.10383468112130045"
      ]
     },
     "execution_count": 22,
     "metadata": {},
     "output_type": "execute_result"
    }
   ],
   "source": [
    "#P(Z > 1.26)\n",
    "1-stats.norm.cdf(1.26)"
   ]
  },
  {
   "cell_type": "code",
   "execution_count": 23,
   "metadata": {},
   "outputs": [
    {
     "data": {
      "text/plain": [
       "0.1948945212518084"
      ]
     },
     "execution_count": 23,
     "metadata": {},
     "output_type": "execute_result"
    }
   ],
   "source": [
    "#P(Z < −0.86)\n",
    "stats.norm.cdf(-0.86)"
   ]
  },
  {
   "cell_type": "code",
   "execution_count": 24,
   "metadata": {},
   "outputs": [
    {
     "data": {
      "text/plain": [
       "0.914656549178033"
      ]
     },
     "execution_count": 24,
     "metadata": {},
     "output_type": "execute_result"
    }
   ],
   "source": [
    "#P(Z > −1.37)\n",
    "1-stats.norm.cdf(-1.37)"
   ]
  },
  {
   "cell_type": "code",
   "execution_count": 27,
   "metadata": {},
   "outputs": [
    {
     "data": {
      "text/plain": [
       "0.5386589811336914"
      ]
     },
     "execution_count": 27,
     "metadata": {},
     "output_type": "execute_result"
    }
   ],
   "source": [
    "#P(−1.25 < Z < 0.37)\n",
    "#P(Z < −1.25)-P(Z < 0.37)\n",
    "stats.norm.cdf(0.37) - stats.norm.cdf(-1.25)"
   ]
  },
  {
   "cell_type": "code",
   "execution_count": 29,
   "metadata": {},
   "outputs": [
    {
     "data": {
      "text/plain": [
       "0.9999978875452975"
      ]
     },
     "execution_count": 29,
     "metadata": {},
     "output_type": "execute_result"
    }
   ],
   "source": [
    "#P(Z ≤ −4.6)\n",
    "stats.norm.cdf(4.6)"
   ]
  },
  {
   "cell_type": "code",
   "execution_count": 30,
   "metadata": {},
   "outputs": [
    {
     "data": {
      "text/plain": [
       "-1.6448536269514729"
      ]
     },
     "execution_count": 30,
     "metadata": {},
     "output_type": "execute_result"
    }
   ],
   "source": [
    "#Find the value z such that P(Z > z) = 0.05\n",
    "z = stats.norm.ppf(0.05)\n",
    "z"
   ]
  },
  {
   "cell_type": "code",
   "execution_count": 43,
   "metadata": {},
   "outputs": [
    {
     "name": "stdout",
     "output_type": "stream",
     "text": [
      "z: 2.3263478740408408\n",
      "-zvalue: 0.01\n",
      "zvalue: 0.99\n"
     ]
    }
   ],
   "source": [
    "#Find the value of z such that P(−z < Z < z) = 0.99\n",
    "z = stats.norm.ppf(0.99)\n",
    "print(\"z:\",z)\n",
    "#P(−z < Z < z)\n",
    "minuszvalue = stats.norm.cdf(-z)\n",
    "print(\"-zvalue:\",minuszvalue)\n",
    "zvalue = stats.norm.cdf(z)\n",
    "print(\"zvalue:\",zvalue)"
   ]
  },
  {
   "cell_type": "markdown",
   "metadata": {},
   "source": [
    "11. The current flow in a copper wire follow a normal distribution with a mean of 10 mA and a variance of 4 (mA)2. What is the probability that a current measurement will exceed 13 mA? What is the probability that a current measurement is between 9 and 11mA? Determine the current measurement which has a probability of 0.98."
   ]
  },
  {
   "cell_type": "code",
   "execution_count": 66,
   "metadata": {},
   "outputs": [],
   "source": [
    "# mean of 10 mA\n",
    "mean = 10\n",
    "#variance of 4 (mA)2\n",
    "variance = 4\n",
    "\n",
    "def prob_measurement(x,mean,variance):\n",
    "    std = np.sqrt(variance)\n",
    "    z =  ((x-mean)/std)\n",
    "    p = stats.norm.cdf(z)\n",
    "    return p\n",
    "    "
   ]
  },
  {
   "cell_type": "code",
   "execution_count": 120,
   "metadata": {},
   "outputs": [
    {
     "name": "stdout",
     "output_type": "stream",
     "text": [
      "P value for the measurement exceeding 13ma: 0.06680720126885809\n"
     ]
    }
   ],
   "source": [
    "print(\"P value for the measurement exceeding 13ma:\",(1-prob_measurement(13,10,4)))"
   ]
  },
  {
   "cell_type": "code",
   "execution_count": 118,
   "metadata": {},
   "outputs": [
    {
     "name": "stdout",
     "output_type": "stream",
     "text": [
      "P value for the measurement between 9 and 11mA: 0.38292492254802624\n"
     ]
    }
   ],
   "source": [
    "# probability that a current measurement is between 9 and 11mA\n",
    "print(\"P value for the measurement between 9 and 11mA:\",abs(prob_measurement(9,10,4) - prob_measurement(11,10,4)))"
   ]
  },
  {
   "cell_type": "code",
   "execution_count": 121,
   "metadata": {},
   "outputs": [
    {
     "name": "stdout",
     "output_type": "stream",
     "text": [
      "current measurement which has a probability of 0.98: 14.217884587921397\n"
     ]
    }
   ],
   "source": [
    "# Determine the current measurement which has a probability of 0.98.\n",
    "mean = 10\n",
    "variance = 4\n",
    "std = variance**0.5\n",
    "std = z = stats.norm.ppf(0.98)\n",
    "measurement = (z*std)+mean\n",
    "print(\"current measurement which has a probability of 0.98:\",measurement)"
   ]
  },
  {
   "cell_type": "markdown",
   "metadata": {},
   "source": [
    "12. The shaft in a piston has its diameter normally distributed with a mean of 0.2508 inch and a standard deviation of 0.0005 inch. The specifications of the shaft are 0.2500 ∓ 0.0015 inch. What proportion of shafts are in sync with the specifications? If the process is centered so that the mean is equal to the target value of 0.2500, what proportion of shafts conform to the new specifications? What is your conclusion from this experiment?"
   ]
  },
  {
   "cell_type": "code",
   "execution_count": 72,
   "metadata": {},
   "outputs": [
    {
     "name": "stdout",
     "output_type": "stream",
     "text": [
      "proportion of shafts are :  0.91924122831152\n"
     ]
    }
   ],
   "source": [
    "mean = 0.2508\n",
    "std = 0.0005\n",
    "sample1 = 0.25-0.0015\n",
    "sample2 = 0.25+0.0015\n",
    "sample1_z = (sample1-mean)/std\n",
    "sample2_z = (sample2-mean)/std\n",
    "print(\"proportion of shafts are : \",stats.norm.cdf(sample2_z)-stats.norm.cdf(sample1_z))"
   ]
  },
  {
   "cell_type": "code",
   "execution_count": 75,
   "metadata": {},
   "outputs": [
    {
     "name": "stdout",
     "output_type": "stream",
     "text": [
      "proportion of shafts for mean 0.2500 :  0.9973002039367398\n"
     ]
    }
   ],
   "source": [
    "#mean is equal tmean = 0.2500\n",
    "mean = 0.2500\n",
    "std = 0.0005\n",
    "sample1 = 0.25-0.0015\n",
    "sample2 = 0.25+0.0015\n",
    "sample1_z = (sample1-mean)/std\n",
    "sample2_z = (sample2-mean)/std\n",
    "print(\"proportion of shafts for mean 0.2500 : \",stats.norm.cdf(sample2_z)-stats.norm.cdf(sample1_z))"
   ]
  }
 ],
 "metadata": {
  "kernelspec": {
   "display_name": "Python 3",
   "language": "python",
   "name": "python3"
  },
  "language_info": {
   "codemirror_mode": {
    "name": "ipython",
    "version": 3
   },
   "file_extension": ".py",
   "mimetype": "text/x-python",
   "name": "python",
   "nbconvert_exporter": "python",
   "pygments_lexer": "ipython3",
   "version": "3.8.3"
  }
 },
 "nbformat": 4,
 "nbformat_minor": 4
}
