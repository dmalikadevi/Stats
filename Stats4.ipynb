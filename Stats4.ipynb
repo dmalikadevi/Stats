{
 "cells": [
  {
   "cell_type": "markdown",
   "metadata": {},
   "source": [
    "1. Is gender independent of education level? A random sample of 395 people were surveyed and each person was asked to report the highest education level they obtained. The data that resulted from the survey is summarized in the following table:\n",
    "      High School Bachelors Masters Ph.d. Total\n",
    "Female 60          54        46      41   201\n",
    "Male 40            44        53      57   194\n",
    "Total 100          98        99      98   395\n",
    "Question: Are gender and education level dependent at 5% level of significance? In other words, given the data collected above, is there a relationship between the gender of an individual and the level of education that they have obtained?"
   ]
  },
  {
   "cell_type": "code",
   "execution_count": 1,
   "metadata": {},
   "outputs": [],
   "source": [
    "from scipy import stats\n",
    "\n",
    "table = [[60,54,46,41],\n",
    "        [40,44,53,57]]"
   ]
  },
  {
   "cell_type": "code",
   "execution_count": 2,
   "metadata": {},
   "outputs": [
    {
     "data": {
      "text/plain": [
       "(8.006066246262538,\n",
       " 0.045886500891747214,\n",
       " 3,\n",
       " array([[50.88607595, 49.86835443, 50.37721519, 49.86835443],\n",
       "        [49.11392405, 48.13164557, 48.62278481, 48.13164557]]))"
      ]
     },
     "execution_count": 2,
     "metadata": {},
     "output_type": "execute_result"
    }
   ],
   "source": [
    "stats.chi2_contingency(table)"
   ]
  },
  {
   "cell_type": "code",
   "execution_count": 4,
   "metadata": {},
   "outputs": [
    {
     "name": "stdout",
     "output_type": "stream",
     "text": [
      "Chi value: 8.006066246262538\n",
      "p_value: 0.045886500891747214\n",
      "Degree of freedom: 3\n"
     ]
    }
   ],
   "source": [
    "chi_score,p_value,dof,Expected_table = stats.chi2_contingency(table)\n",
    "print(\"Chi value:\",chi_score)\n",
    "print(\"p_value:\",p_value)\n",
    "print(\"Degree of freedom:\",dof)"
   ]
  },
  {
   "cell_type": "code",
   "execution_count": 29,
   "metadata": {},
   "outputs": [
    {
     "data": {
      "text/plain": [
       "7.814727903251179"
      ]
     },
     "execution_count": 29,
     "metadata": {},
     "output_type": "execute_result"
    }
   ],
   "source": [
    "#5% level of significance\n",
    "alpha = 0.05\n",
    "p = 1-alpha\n",
    "# Tabulated chi square value\n",
    "critical_value=stats.chi2.ppf(p,dof)\n",
    "critical_value"
   ]
  },
  {
   "cell_type": "code",
   "execution_count": 30,
   "metadata": {},
   "outputs": [
    {
     "name": "stdout",
     "output_type": "stream",
     "text": [
      "Hypothesis assumed rejected\n",
      "Hypothesis rejected as per pvalue\n"
     ]
    }
   ],
   "source": [
    "if abs(chi_score)>critical_value:\n",
    "    print(\"Hypothesis assumed rejected\")\n",
    "else:\n",
    "    print(\"Hypothesis assumed accepted\")\n",
    "    \n",
    "if p_value<alpha:\n",
    "    print(\"Hypothesis rejected as per pvalue\")\n",
    "else:\n",
    "    print(\"Hypothesis accepted as  per pvalue\")   "
   ]
  },
  {
   "cell_type": "markdown",
   "metadata": {},
   "source": [
    "2. Using the following data, perform a oneway analysis of variance using α=.05. Write up the results in APA format.\n",
    "\n",
    "[Group1: 51, 45, 33, 45, 67]\n",
    "[Group2: 23, 43, 23, 43, 45]\n",
    "[Group3: 56, 76, 74, 87, 56]"
   ]
  },
  {
   "cell_type": "code",
   "execution_count": 31,
   "metadata": {},
   "outputs": [],
   "source": [
    "Group1 = [51, 45, 33, 45, 67]\n",
    "Group2 = [23, 43, 23, 43, 45]\n",
    "Group3 = [56, 76, 74, 87, 56]"
   ]
  },
  {
   "cell_type": "code",
   "execution_count": 35,
   "metadata": {},
   "outputs": [
    {
     "name": "stdout",
     "output_type": "stream",
     "text": [
      "F value: 9.747205503009463\n",
      "p value: 0.0030597541434430556\n"
     ]
    }
   ],
   "source": [
    "F_value ,p_value = stats.f_oneway(Group1, Group2, Group3)\n",
    "print(\"F value:\",F_value)\n",
    "print(\"p value:\",p_value)"
   ]
  },
  {
   "cell_type": "code",
   "execution_count": 38,
   "metadata": {},
   "outputs": [
    {
     "name": "stdout",
     "output_type": "stream",
     "text": [
      "critical value: 3.8852938346523933\n"
     ]
    }
   ],
   "source": [
    "#5% level of significance\n",
    "alpha = 0.05\n",
    "p = 1-alpha\n",
    "k=3\n",
    "N = k*len(Group1)\n",
    "dof = N-k #degree of freedom within\n",
    "dfb = k-1 #degree of freedom inbetween\n",
    "critical_value=stats.f.ppf(p, dfb, dof)\n",
    "print(\"critical value:\",critical_value)"
   ]
  },
  {
   "cell_type": "code",
   "execution_count": 39,
   "metadata": {},
   "outputs": [
    {
     "name": "stdout",
     "output_type": "stream",
     "text": [
      "Hypothesis assumed rejected\n",
      "Hypothesis rejected as per pvalue\n"
     ]
    }
   ],
   "source": [
    "if abs(F_value)>critical_value:\n",
    "    print(\"Hypothesis assumed rejected\")\n",
    "else:\n",
    "    print(\"Hypothesis assumed accepted\")\n",
    "    \n",
    "if p_value<alpha:\n",
    "    print(\"Hypothesis rejected as per pvalue\")\n",
    "else:\n",
    "    print(\"Hypothesis accepted as  per pvalue\")     "
   ]
  },
  {
   "cell_type": "markdown",
   "metadata": {},
   "source": [
    "3. Calculate F Test for given 10, 20, 30, 40, 50 and 5,10,15, 20, 25."
   ]
  },
  {
   "cell_type": "code",
   "execution_count": 43,
   "metadata": {},
   "outputs": [],
   "source": [
    "a=[10,20,30,40,50]\n",
    "b=[5,10,15,20,25]"
   ]
  },
  {
   "cell_type": "code",
   "execution_count": 44,
   "metadata": {},
   "outputs": [],
   "source": [
    "def f_test(a,b):\n",
    "    var_a = (np.std(a,ddof=1))**2\n",
    "    var_b = (np.std(b,ddof=1))**2\n",
    "    return var_a/var_b"
   ]
  },
  {
   "cell_type": "code",
   "execution_count": 45,
   "metadata": {},
   "outputs": [
    {
     "data": {
      "text/plain": [
       "4.0"
      ]
     },
     "execution_count": 45,
     "metadata": {},
     "output_type": "execute_result"
    }
   ],
   "source": [
    "f_test(a,b)"
   ]
  }
 ],
 "metadata": {
  "kernelspec": {
   "display_name": "Python 3",
   "language": "python",
   "name": "python3"
  },
  "language_info": {
   "codemirror_mode": {
    "name": "ipython",
    "version": 3
   },
   "file_extension": ".py",
   "mimetype": "text/x-python",
   "name": "python",
   "nbconvert_exporter": "python",
   "pygments_lexer": "ipython3",
   "version": "3.8.3"
  }
 },
 "nbformat": 4,
 "nbformat_minor": 4
}
