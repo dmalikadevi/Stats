{
 "cells": [
  {
   "cell_type": "markdown",
   "metadata": {},
   "source": [
    "1. Blood glucose levels for obese patients have a mean of 100 with a standard deviation of 15. A researcher thinks that a diet high in raw cornstarch will have a positive effect on blood glucose levels. A sample of 36 patients who have tried the raw cornstarch diet have a mean glucose level of 108. Test the hypothesis that the raw cornstarch had an effect or not."
   ]
  },
  {
   "cell_type": "code",
   "execution_count": 1,
   "metadata": {},
   "outputs": [],
   "source": [
    "import numpy as np\n",
    "from scipy import stats\n",
    "\n",
    "p_mean = 100\n",
    "p_sd = 15\n",
    "n = 36\n",
    "s_mean = 108"
   ]
  },
  {
   "cell_type": "code",
   "execution_count": 5,
   "metadata": {},
   "outputs": [],
   "source": [
    "def get_z_score(mu,x,sigma,n):\n",
    "    return (x-mu)/(sigma/np.sqrt(n))\n",
    "    "
   ]
  },
  {
   "cell_type": "code",
   "execution_count": 10,
   "metadata": {},
   "outputs": [
    {
     "name": "stdout",
     "output_type": "stream",
     "text": [
      "z_score: 3.2\n"
     ]
    }
   ],
   "source": [
    "z_score = get_z_score(p_mean,s_mean,p_sd,n)\n",
    "print(\"z_score:\",z_score)"
   ]
  },
  {
   "cell_type": "code",
   "execution_count": 12,
   "metadata": {},
   "outputs": [
    {
     "name": "stdout",
     "output_type": "stream",
     "text": [
      "The Probability of having value less than 108:  0.9993128620620841\n",
      "The Probability of having value more than 108:  0.0006871379379158604\n"
     ]
    }
   ],
   "source": [
    "critical=stats.norm.cdf(abs(z_score))\n",
    "prob = 1-critical\n",
    "print(\"The Probability of having value less than 108: \",critical)\n",
    "print(\"The Probability of having value more than 108: \",prob)"
   ]
  },
  {
   "cell_type": "markdown",
   "metadata": {},
   "source": [
    "2. In one state, 52% of the voters are Republicans, and 48% are Democrats. In a second state, 47% of the voters are Republicans, and 53% are Democrats. Suppose a simple random sample of 100 voters are surveyed from each state. What is the probability that the survey will show a greater percentage of Republican voters in the second state than in the first state?"
   ]
  },
  {
   "cell_type": "code",
   "execution_count": 30,
   "metadata": {},
   "outputs": [
    {
     "name": "stdout",
     "output_type": "stream",
     "text": [
      "Mean: 0.050000000000000044\n",
      "std: 0.07061869440877536\n"
     ]
    }
   ],
   "source": [
    "#52% of the voters are Republicans\n",
    "p1 = 0.52\n",
    "q1 = 0.48\n",
    "#47% of the voters are Republicans\n",
    "p2 = 0.47\n",
    "q2 = 0.53\n",
    "#sample of 100 voters\n",
    "n1 = 100\n",
    "n2 = 100 \n",
    "mu = p1 - p2\n",
    "std = np.sqrt(((p1 * q1 ) / n1) + ((p2 * q2) /n2))\n",
    "print(\"Mean:\",mu)\n",
    "print(\"std:\",std)"
   ]
  },
  {
   "cell_type": "code",
   "execution_count": 31,
   "metadata": {},
   "outputs": [],
   "source": [
    "def get_z_score(mu,x,std):\n",
    "    return (x-mu)/(std)"
   ]
  },
  {
   "cell_type": "code",
   "execution_count": 36,
   "metadata": {},
   "outputs": [
    {
     "name": "stdout",
     "output_type": "stream",
     "text": [
      "z_score: -0.7080278164104213\n",
      "Probability of having greater percentage of Republican voters in the second state : 0.36164434156468106\n"
     ]
    }
   ],
   "source": [
    "print(\"z_score:\",get_z_score(mu,0,std))\n",
    "print(\"Probability of having greater percentage of Republican voters in the second state :\",(1-stats.norm.cdf(abs(z_score))))"
   ]
  },
  {
   "cell_type": "markdown",
   "metadata": {},
   "source": [
    "3. You take the SAT and score 1100. The mean score for the SAT is 1026 and the standard deviation is 209. How well did you score on the test compared to the average test taker?"
   ]
  },
  {
   "cell_type": "code",
   "execution_count": 13,
   "metadata": {},
   "outputs": [],
   "source": [
    "x = 1100\n",
    "mean = 1026\n",
    "sd = 209\n",
    "def get_z_score(mu,x,sigma):\n",
    "    return (x-mu)/(sigma)"
   ]
  },
  {
   "cell_type": "code",
   "execution_count": 14,
   "metadata": {},
   "outputs": [
    {
     "data": {
      "text/plain": [
       "0.35406698564593303"
      ]
     },
     "execution_count": 14,
     "metadata": {},
     "output_type": "execute_result"
    }
   ],
   "source": [
    "z_score = get_z_score(mean,x,sd)\n",
    "z_score"
   ]
  }
 ],
 "metadata": {
  "kernelspec": {
   "display_name": "Python 3",
   "language": "python",
   "name": "python3"
  },
  "language_info": {
   "codemirror_mode": {
    "name": "ipython",
    "version": 3
   },
   "file_extension": ".py",
   "mimetype": "text/x-python",
   "name": "python",
   "nbconvert_exporter": "python",
   "pygments_lexer": "ipython3",
   "version": "3.8.3"
  }
 },
 "nbformat": 4,
 "nbformat_minor": 4
}
